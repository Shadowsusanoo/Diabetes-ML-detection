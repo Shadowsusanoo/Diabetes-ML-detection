{
 "cells": [
  {
   "cell_type": "code",
   "execution_count": 1,
   "metadata": {},
   "outputs": [],
   "source": [
    "import pandas as pd\n",
    "import pylab as pl\n",
    "import numpy as np\n",
    "import scipy.optimize as opt\n",
    "from sklearn import preprocessing\n",
    "%matplotlib inline \n",
    "import matplotlib.pyplot as plt\n",
    "import os\n",
    "os.chdir('D:\\Python_csv_files')\n",
    "\n"
   ]
  },
  {
   "cell_type": "code",
   "execution_count": 2,
   "metadata": {},
   "outputs": [],
   "source": [
    "df = pd.read_excel(\"chaljaa.xlsx\")"
   ]
  },
  {
   "cell_type": "code",
   "execution_count": 3,
   "metadata": {},
   "outputs": [
    {
     "data": {
      "text/html": [
       "<div>\n",
       "<style scoped>\n",
       "    .dataframe tbody tr th:only-of-type {\n",
       "        vertical-align: middle;\n",
       "    }\n",
       "\n",
       "    .dataframe tbody tr th {\n",
       "        vertical-align: top;\n",
       "    }\n",
       "\n",
       "    .dataframe thead th {\n",
       "        text-align: right;\n",
       "    }\n",
       "</style>\n",
       "<table border=\"1\" class=\"dataframe\">\n",
       "  <thead>\n",
       "    <tr style=\"text-align: right;\">\n",
       "      <th></th>\n",
       "      <th>preg_count</th>\n",
       "      <th>glu_conc</th>\n",
       "      <th>BP</th>\n",
       "      <th>tricep_thickness</th>\n",
       "      <th>insulin</th>\n",
       "      <th>BMI</th>\n",
       "      <th>DPF</th>\n",
       "      <th>Age</th>\n",
       "      <th>class</th>\n",
       "    </tr>\n",
       "  </thead>\n",
       "  <tbody>\n",
       "    <tr>\n",
       "      <th>0</th>\n",
       "      <td>6</td>\n",
       "      <td>148</td>\n",
       "      <td>72</td>\n",
       "      <td>35</td>\n",
       "      <td>0</td>\n",
       "      <td>33.6</td>\n",
       "      <td>0.627</td>\n",
       "      <td>50</td>\n",
       "      <td>1</td>\n",
       "    </tr>\n",
       "    <tr>\n",
       "      <th>1</th>\n",
       "      <td>1</td>\n",
       "      <td>85</td>\n",
       "      <td>66</td>\n",
       "      <td>29</td>\n",
       "      <td>0</td>\n",
       "      <td>26.6</td>\n",
       "      <td>0.351</td>\n",
       "      <td>31</td>\n",
       "      <td>0</td>\n",
       "    </tr>\n",
       "    <tr>\n",
       "      <th>2</th>\n",
       "      <td>8</td>\n",
       "      <td>183</td>\n",
       "      <td>64</td>\n",
       "      <td>0</td>\n",
       "      <td>0</td>\n",
       "      <td>23.3</td>\n",
       "      <td>0.672</td>\n",
       "      <td>32</td>\n",
       "      <td>1</td>\n",
       "    </tr>\n",
       "    <tr>\n",
       "      <th>3</th>\n",
       "      <td>1</td>\n",
       "      <td>89</td>\n",
       "      <td>66</td>\n",
       "      <td>23</td>\n",
       "      <td>94</td>\n",
       "      <td>28.1</td>\n",
       "      <td>0.167</td>\n",
       "      <td>21</td>\n",
       "      <td>0</td>\n",
       "    </tr>\n",
       "    <tr>\n",
       "      <th>4</th>\n",
       "      <td>0</td>\n",
       "      <td>137</td>\n",
       "      <td>40</td>\n",
       "      <td>35</td>\n",
       "      <td>168</td>\n",
       "      <td>43.1</td>\n",
       "      <td>2.288</td>\n",
       "      <td>33</td>\n",
       "      <td>1</td>\n",
       "    </tr>\n",
       "  </tbody>\n",
       "</table>\n",
       "</div>"
      ],
      "text/plain": [
       "   preg_count  glu_conc  BP  tricep_thickness  insulin   BMI    DPF  Age  \\\n",
       "0           6       148  72                35        0  33.6  0.627   50   \n",
       "1           1        85  66                29        0  26.6  0.351   31   \n",
       "2           8       183  64                 0        0  23.3  0.672   32   \n",
       "3           1        89  66                23       94  28.1  0.167   21   \n",
       "4           0       137  40                35      168  43.1  2.288   33   \n",
       "\n",
       "   class  \n",
       "0      1  \n",
       "1      0  \n",
       "2      1  \n",
       "3      0  \n",
       "4      1  "
      ]
     },
     "execution_count": 3,
     "metadata": {},
     "output_type": "execute_result"
    }
   ],
   "source": [
    "df.head()"
   ]
  },
  {
   "cell_type": "code",
   "execution_count": 4,
   "metadata": {},
   "outputs": [
    {
     "data": {
      "text/plain": [
       "array([1, 0, 1, 0, 1])"
      ]
     },
     "execution_count": 4,
     "metadata": {},
     "output_type": "execute_result"
    }
   ],
   "source": [
    "feature_df = df[['preg_count', 'glu_conc', 'BP', 'tricep_thickness', 'insulin', 'BMI', 'DPF', 'Age']]\n",
    "X = np.asarray(feature_df)\n",
    "df['class'] = df['class'].astype('int')\n",
    "y = np.asarray(df['class'])\n",
    "y [0:5]"
   ]
  },
  {
   "cell_type": "code",
   "execution_count": 5,
   "metadata": {},
   "outputs": [
    {
     "data": {
      "text/plain": [
       "array([[ 0.63994726,  0.84832379,  0.14964075,  0.90726993, -0.69289057,\n",
       "         0.20401277,  0.46849198,  1.4259954 ],\n",
       "       [-0.84488505, -1.12339636, -0.16054575,  0.53090156, -0.69289057,\n",
       "        -0.68442195, -0.36506078, -0.19067191],\n",
       "       [ 1.23388019,  1.94372388, -0.26394125, -1.28821221, -0.69289057,\n",
       "        -1.10325546,  0.60439732, -0.10558415],\n",
       "       [-0.84488505, -0.99820778, -0.16054575,  0.15453319,  0.12330164,\n",
       "        -0.49404308, -0.92076261, -1.04154944],\n",
       "       [-1.14185152,  0.5040552 , -1.50468724,  0.90726993,  0.76583594,\n",
       "         1.4097456 ,  5.4849091 , -0.0204964 ]])"
      ]
     },
     "execution_count": 5,
     "metadata": {},
     "output_type": "execute_result"
    }
   ],
   "source": [
    "from sklearn import preprocessing\n",
    "X = preprocessing.StandardScaler().fit(X).transform(X)\n",
    "X[0:5]"
   ]
  },
  {
   "cell_type": "code",
   "execution_count": 6,
   "metadata": {},
   "outputs": [
    {
     "name": "stdout",
     "output_type": "stream",
     "text": [
      "Train set: (614, 8) (614,)\n",
      "Test set: (154, 8) (154,)\n"
     ]
    }
   ],
   "source": [
    "from sklearn.model_selection import train_test_split\n",
    "X_train, X_test, y_train, y_test = train_test_split( X, y, test_size=0.2, random_state=4)\n",
    "print ('Train set:', X_train.shape,  y_train.shape)\n",
    "print ('Test set:', X_test.shape,  y_test.shape)"
   ]
  },
  {
   "cell_type": "code",
   "execution_count": 7,
   "metadata": {},
   "outputs": [
    {
     "data": {
      "text/plain": [
       "LogisticRegression(C=0.01, class_weight=None, dual=False, fit_intercept=True,\n",
       "          intercept_scaling=1, max_iter=100, multi_class='ovr', n_jobs=1,\n",
       "          penalty='l2', random_state=None, solver='liblinear', tol=0.0001,\n",
       "          verbose=0, warm_start=False)"
      ]
     },
     "execution_count": 7,
     "metadata": {},
     "output_type": "execute_result"
    }
   ],
   "source": [
    "from sklearn.linear_model import LogisticRegression\n",
    "from sklearn.metrics import confusion_matrix\n",
    "LR = LogisticRegression(C=0.01, solver='liblinear').fit(X_train,y_train)\n",
    "LR"
   ]
  },
  {
   "cell_type": "code",
   "execution_count": 8,
   "metadata": {},
   "outputs": [
    {
     "data": {
      "text/plain": [
       "array([0, 0, 0, 0, 0, 1, 1, 1, 1, 0, 1, 0, 0, 0, 0, 1, 1, 1, 0, 0, 0, 1,\n",
       "       0, 1, 0, 0, 0, 0, 0, 0, 1, 0, 0, 0, 1, 0, 1, 1, 0, 1, 1, 0, 0, 1,\n",
       "       0, 0, 0, 1, 0, 0, 1, 1, 0, 1, 0, 0, 0, 0, 0, 0, 0, 0, 0, 0, 0, 0,\n",
       "       0, 1, 0, 1, 0, 0, 0, 0, 0, 1, 0, 0, 0, 1, 1, 1, 0, 1, 1, 0, 0, 1,\n",
       "       0, 0, 1, 0, 0, 0, 0, 0, 0, 0, 1, 0, 0, 1, 0, 0, 1, 0, 0, 1, 0, 0,\n",
       "       1, 1, 1, 0, 0, 0, 0, 1, 1, 1, 0, 0, 0, 0, 0, 0, 1, 0, 0, 1, 0, 0,\n",
       "       0, 0, 1, 0, 0, 0, 1, 1, 0, 0, 0, 0, 1, 1, 1, 0, 0, 0, 0, 0, 1, 1])"
      ]
     },
     "execution_count": 8,
     "metadata": {},
     "output_type": "execute_result"
    }
   ],
   "source": [
    "yhat = LR.predict(X_test)\n",
    "yhat"
   ]
  },
  {
   "cell_type": "code",
   "execution_count": 9,
   "metadata": {},
   "outputs": [
    {
     "data": {
      "text/plain": [
       "array([[0.65961041, 0.34038959],\n",
       "       [0.73966496, 0.26033504],\n",
       "       [0.74766502, 0.25233498],\n",
       "       [0.53606489, 0.46393511],\n",
       "       [0.6444513 , 0.3555487 ],\n",
       "       [0.31463595, 0.68536405],\n",
       "       [0.48475665, 0.51524335],\n",
       "       [0.47879495, 0.52120505],\n",
       "       [0.21424296, 0.78575704],\n",
       "       [0.65651099, 0.34348901],\n",
       "       [0.47163455, 0.52836545],\n",
       "       [0.79722399, 0.20277601],\n",
       "       [0.63960229, 0.36039771],\n",
       "       [0.80203658, 0.19796342],\n",
       "       [0.71898137, 0.28101863],\n",
       "       [0.42375828, 0.57624172],\n",
       "       [0.2408732 , 0.7591268 ],\n",
       "       [0.21869962, 0.78130038],\n",
       "       [0.81639327, 0.18360673],\n",
       "       [0.80457111, 0.19542889],\n",
       "       [0.7258526 , 0.2741474 ],\n",
       "       [0.3961124 , 0.6038876 ],\n",
       "       [0.59889891, 0.40110109],\n",
       "       [0.29776746, 0.70223254],\n",
       "       [0.68156229, 0.31843771],\n",
       "       [0.57859534, 0.42140466],\n",
       "       [0.75755135, 0.24244865],\n",
       "       [0.50632493, 0.49367507],\n",
       "       [0.62415877, 0.37584123],\n",
       "       [0.66993753, 0.33006247],\n",
       "       [0.34272412, 0.65727588],\n",
       "       [0.80032587, 0.19967413],\n",
       "       [0.59891766, 0.40108234],\n",
       "       [0.81473428, 0.18526572],\n",
       "       [0.40512758, 0.59487242],\n",
       "       [0.50181817, 0.49818183],\n",
       "       [0.49589797, 0.50410203],\n",
       "       [0.43379854, 0.56620146],\n",
       "       [0.72303811, 0.27696189],\n",
       "       [0.42155594, 0.57844406],\n",
       "       [0.40376745, 0.59623255],\n",
       "       [0.6211037 , 0.3788963 ],\n",
       "       [0.6466427 , 0.3533573 ],\n",
       "       [0.34234171, 0.65765829],\n",
       "       [0.72407741, 0.27592259],\n",
       "       [0.73212249, 0.26787751],\n",
       "       [0.58415706, 0.41584294],\n",
       "       [0.25365571, 0.74634429],\n",
       "       [0.65071876, 0.34928124],\n",
       "       [0.73631983, 0.26368017],\n",
       "       [0.35224425, 0.64775575],\n",
       "       [0.38382728, 0.61617272],\n",
       "       [0.69842986, 0.30157014],\n",
       "       [0.4677893 , 0.5322107 ],\n",
       "       [0.59125387, 0.40874613],\n",
       "       [0.71638932, 0.28361068],\n",
       "       [0.60018104, 0.39981896],\n",
       "       [0.85371515, 0.14628485],\n",
       "       [0.68397845, 0.31602155],\n",
       "       [0.5175641 , 0.4824359 ],\n",
       "       [0.54205888, 0.45794112],\n",
       "       [0.7497829 , 0.2502171 ],\n",
       "       [0.54468871, 0.45531129],\n",
       "       [0.83096663, 0.16903337],\n",
       "       [0.61348238, 0.38651762],\n",
       "       [0.61649518, 0.38350482],\n",
       "       [0.73219557, 0.26780443],\n",
       "       [0.44619789, 0.55380211],\n",
       "       [0.59122593, 0.40877407],\n",
       "       [0.44406929, 0.55593071],\n",
       "       [0.78934273, 0.21065727],\n",
       "       [0.5656231 , 0.4343769 ],\n",
       "       [0.62326491, 0.37673509],\n",
       "       [0.81924506, 0.18075494],\n",
       "       [0.77075748, 0.22924252],\n",
       "       [0.30554538, 0.69445462],\n",
       "       [0.68013051, 0.31986949],\n",
       "       [0.74084982, 0.25915018],\n",
       "       [0.75755185, 0.24244815],\n",
       "       [0.24783458, 0.75216542],\n",
       "       [0.23982853, 0.76017147],\n",
       "       [0.4699867 , 0.5300133 ],\n",
       "       [0.75282047, 0.24717953],\n",
       "       [0.21665787, 0.78334213],\n",
       "       [0.46529442, 0.53470558],\n",
       "       [0.82249756, 0.17750244],\n",
       "       [0.80873113, 0.19126887],\n",
       "       [0.2471328 , 0.7528672 ],\n",
       "       [0.6881289 , 0.3118711 ],\n",
       "       [0.67056825, 0.32943175],\n",
       "       [0.41159126, 0.58840874],\n",
       "       [0.81851711, 0.18148289],\n",
       "       [0.59736183, 0.40263817],\n",
       "       [0.70503748, 0.29496252],\n",
       "       [0.73523924, 0.26476076],\n",
       "       [0.60410692, 0.39589308],\n",
       "       [0.72987965, 0.27012035],\n",
       "       [0.53042668, 0.46957332],\n",
       "       [0.37075742, 0.62924258],\n",
       "       [0.59441871, 0.40558129],\n",
       "       [0.69508262, 0.30491738],\n",
       "       [0.48222033, 0.51777967],\n",
       "       [0.70898281, 0.29101719],\n",
       "       [0.61485641, 0.38514359],\n",
       "       [0.3281336 , 0.6718664 ],\n",
       "       [0.58387014, 0.41612986],\n",
       "       [0.74051347, 0.25948653],\n",
       "       [0.34522014, 0.65477986],\n",
       "       [0.55486649, 0.44513351],\n",
       "       [0.55635493, 0.44364507],\n",
       "       [0.30262034, 0.69737966],\n",
       "       [0.27806108, 0.72193892],\n",
       "       [0.221552  , 0.778448  ],\n",
       "       [0.81225598, 0.18774402],\n",
       "       [0.74179669, 0.25820331],\n",
       "       [0.78662371, 0.21337629],\n",
       "       [0.50901995, 0.49098005],\n",
       "       [0.47321931, 0.52678069],\n",
       "       [0.42444606, 0.57555394],\n",
       "       [0.26159474, 0.73840526],\n",
       "       [0.69149618, 0.30850382],\n",
       "       [0.72571674, 0.27428326],\n",
       "       [0.63334973, 0.36665027],\n",
       "       [0.70495911, 0.29504089],\n",
       "       [0.682965  , 0.317035  ],\n",
       "       [0.67601214, 0.32398786],\n",
       "       [0.45748571, 0.54251429],\n",
       "       [0.67467621, 0.32532379],\n",
       "       [0.75868401, 0.24131599],\n",
       "       [0.37777878, 0.62222122],\n",
       "       [0.67284173, 0.32715827],\n",
       "       [0.80268369, 0.19731631],\n",
       "       [0.64495268, 0.35504732],\n",
       "       [0.77020368, 0.22979632],\n",
       "       [0.44499873, 0.55500127],\n",
       "       [0.7666557 , 0.2333443 ],\n",
       "       [0.69569761, 0.30430239],\n",
       "       [0.77578553, 0.22421447],\n",
       "       [0.42769896, 0.57230104],\n",
       "       [0.0952272 , 0.9047728 ],\n",
       "       [0.77013732, 0.22986268],\n",
       "       [0.8043378 , 0.1956622 ],\n",
       "       [0.67526482, 0.32473518],\n",
       "       [0.55786411, 0.44213589],\n",
       "       [0.46769699, 0.53230301],\n",
       "       [0.38424374, 0.61575626],\n",
       "       [0.35659784, 0.64340216],\n",
       "       [0.55718943, 0.44281057],\n",
       "       [0.73607128, 0.26392872],\n",
       "       [0.51868411, 0.48131589],\n",
       "       [0.78754985, 0.21245015],\n",
       "       [0.52112603, 0.47887397],\n",
       "       [0.38331059, 0.61668941],\n",
       "       [0.34364121, 0.65635879]])"
      ]
     },
     "execution_count": 9,
     "metadata": {},
     "output_type": "execute_result"
    }
   ],
   "source": [
    "yhat_prob = LR.predict_proba(X_test)\n",
    "yhat_prob"
   ]
  },
  {
   "cell_type": "code",
   "execution_count": 10,
   "metadata": {},
   "outputs": [
    {
     "data": {
      "text/plain": [
       "0.7727272727272727"
      ]
     },
     "execution_count": 10,
     "metadata": {},
     "output_type": "execute_result"
    }
   ],
   "source": [
    "from sklearn.metrics import jaccard_similarity_score\n",
    "jaccard_similarity_score(y_test, yhat)"
   ]
  },
  {
   "cell_type": "code",
   "execution_count": 11,
   "metadata": {},
   "outputs": [
    {
     "name": "stdout",
     "output_type": "stream",
     "text": [
      "[[34 18]\n",
      " [17 85]]\n"
     ]
    }
   ],
   "source": [
    "from sklearn.metrics import classification_report, confusion_matrix\n",
    "import itertools\n",
    "def plot_confusion_matrix(cm, classes,\n",
    "                          normalize=False,\n",
    "                          title='Confusion matrix',\n",
    "                          cmap=plt.cm.Blues):\n",
    "    \"\"\"\n",
    "    This function prints and plots the confusion matrix.\n",
    "    Normalization can be applied by setting `normalize=True`.\n",
    "    \"\"\"\n",
    "    if normalize:\n",
    "        cm = cm.astype('float') / cm.sum(axis=1)[:, np.newaxis]\n",
    "        print(\"Normalized confusion matrix\")\n",
    "    else:\n",
    "        print('Confusion matrix, without normalization')\n",
    "\n",
    "    print(cm)\n",
    "\n",
    "    plt.imshow(cm, interpolation='nearest', cmap=cmap)\n",
    "    plt.title(title)\n",
    "    plt.colorbar()\n",
    "    tick_marks = np.arange(len(classes))\n",
    "    plt.xticks(tick_marks, classes, rotation=45)\n",
    "    plt.yticks(tick_marks, classes)\n",
    "\n",
    "    fmt = '.2f' if normalize else 'd'\n",
    "    thresh = cm.max() / 2.\n",
    "    for i, j in itertools.product(range(cm.shape[0]), range(cm.shape[1])):\n",
    "        plt.text(j, i, format(cm[i, j], fmt),\n",
    "                 horizontalalignment=\"center\",\n",
    "                 color=\"white\" if cm[i, j] > thresh else \"black\")\n",
    "\n",
    "    plt.tight_layout()\n",
    "    plt.ylabel('True label')\n",
    "    plt.xlabel('Predicted label')\n",
    "print(confusion_matrix(y_test, yhat, labels=[1,0]))"
   ]
  },
  {
   "cell_type": "code",
   "execution_count": 12,
   "metadata": {},
   "outputs": [
    {
     "name": "stdout",
     "output_type": "stream",
     "text": [
      "Confusion matrix, without normalization\n",
      "[[34 18]\n",
      " [17 85]]\n"
     ]
    },
    {
     "data": {
      "image/png": "[encoded data removed]",
      "text/plain": [
       "<Figure size 432x288 with 2 Axes>"
      ]
     },
     "metadata": {
      "needs_background": "light"
     },
     "output_type": "display_data"
    }
   ],
   "source": [
    "# Compute confusion matrix\n",
    "cnf_matrix = confusion_matrix(y_test, yhat, labels=[1,0])\n",
    "np.set_printoptions(precision=2)\n",
    "\n",
    "\n",
    "# Plot non-normalized confusion matrix\n",
    "plt.figure()\n",
    "plot_confusion_matrix(cnf_matrix, classes=['Benign(1)','Malignant(0)'],normalize= False,  title='Confusion matrix')"
   ]
  },
  {
   "cell_type": "code",
   "execution_count": 13,
   "metadata": {},
   "outputs": [
    {
     "name": "stdout",
     "output_type": "stream",
     "text": [
      "             precision    recall  f1-score   support\n",
      "\n",
      "          0       0.83      0.83      0.83       102\n",
      "          1       0.67      0.65      0.66        52\n",
      "\n",
      "avg / total       0.77      0.77      0.77       154\n",
      "\n"
     ]
    }
   ],
   "source": [
    "print (classification_report(y_test, yhat))"
   ]
  },
  {
   "cell_type": "code",
   "execution_count": 14,
   "metadata": {},
   "outputs": [
    {
     "data": {
      "text/plain": [
       "0.5177367118020171"
      ]
     },
     "execution_count": 14,
     "metadata": {},
     "output_type": "execute_result"
    }
   ],
   "source": [
    "from sklearn.metrics import log_loss\n",
    "log_loss(y_test, yhat_prob)"
   ]
  },
  {
   "cell_type": "code",
   "execution_count": 15,
   "metadata": {},
   "outputs": [
    {
     "name": "stdout",
     "output_type": "stream",
     "text": [
      "Avg F1-score: 0.7722\n"
     ]
    }
   ],
   "source": [
    "from sklearn.metrics import f1_score\n",
    "print(\"Avg F1-score: %.4f\" % f1_score(y_test, yhat, average='weighted'))"
   ]
  },
  {
   "cell_type": "code",
   "execution_count": null,
   "metadata": {},
   "outputs": [],
   "source": []
  }
 ],
 "metadata": {
  "kernelspec": {
   "display_name": "Python 3",
   "language": "python",
   "name": "python3"
  },
  "language_info": {
   "codemirror_mode": {
    "name": "ipython",
    "version": 3
   },
   "file_extension": ".py",
   "mimetype": "text/x-python",
   "name": "python",
   "nbconvert_exporter": "python",
   "pygments_lexer": "ipython3",
   "version": "3.7.0"
  }
 },
 "nbformat": 4,
 "nbformat_minor": 2
}
